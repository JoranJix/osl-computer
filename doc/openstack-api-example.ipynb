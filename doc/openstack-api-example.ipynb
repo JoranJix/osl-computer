{
 "cells": [
  {
   "cell_type": "markdown",
   "metadata": {},
   "source": [
    "# OpenStack API"
   ]
  },
  {
   "cell_type": "markdown",
   "metadata": {},
   "source": [
    "El API de OpenStack permite la gestión de todos los componentes de la infraestructura.\n",
    "\n",
    "Vamos a realizar las siguientes operaciones como ejemplo de uso:\n",
    "* autenticación\n",
    "* creación de red\n",
    "* creación de router\n",
    "* creación de máquina virtual"
   ]
  },
  {
   "cell_type": "markdown",
   "metadata": {},
   "source": [
    "## Variables de entorno\n",
    "Inicializamos las variables de entorno tomando como partida el archivo de openrc.sh que nos bajamos desde la interfaz de OpenStack:"
   ]
  },
  {
   "cell_type": "code",
   "execution_count": 2,
   "metadata": {
    "collapsed": false
   },
   "outputs": [
    {
     "name": "stdout",
     "output_type": "stream",
     "text": [
      "hola\n"
     ]
    }
   ],
   "source": [
    "config={}\n",
    "config[\"OS_AUTH_URL\"]=\"http://openstack-vcenter:5000/v3\"\n",
    "config[\"OS_PROJECT_ID\"]=\"9d7812704e104a208603c5d0481bd952\"\n",
    "config[\"OS_PROJECT_NAME\"]=\"admin\"\n",
    "config[\"OS_USER_DOMAIN_NAME\"]=\"default\"\n",
    "config[\"OS_USERNAME\"]=\"admin\"\n",
    "config[\"OS_PASSWORD\"]=\"admin\"\n",
    "config[\"OS_REGION_NAME\"]=\"RegionOne\"\n",
    "config[\"name\"]=\"prueba\""
   ]
  },
  {
   "cell_type": "markdown",
   "metadata": {},
   "source": [
    "## Autenticación\n",
    "Enviamos nuestras credenciales y obtenemos un token en las cabeceras."
   ]
  },
  {
   "cell_type": "code",
   "execution_count": null,
   "metadata": {
    "collapsed": true
   },
   "outputs": [],
   "source": [
    "# Peticiones http\n",
    "import request\n",
    "# Tratamiento de json\n",
    "import json\n",
    "\n",
    "    headers = {}\n",
    "    headers[\"Content-Type\"] = 'application/json'\n",
    "\n",
    "    data = \"\"\"\n",
    "    {\n",
    "        \"auth\": {\n",
    "            \"identity\": {\n",
    "                \"methods\": [\n",
    "                    \"password\"\n",
    "                ],\n",
    "                \"password\": {\n",
    "                    \"user\": {\n",
    "                        \"name\": \"%s\",\n",
    "                        \"password\": \"%s\",\n",
    "                        \"domain\": {\n",
    "                            \"name\": \"%s\"\n",
    "                        }\n",
    "                    }\n",
    "                }\n",
    "            },\n",
    "            \"scope\": {\n",
    "                \"project\": {\n",
    "                    \"id\": \"%s\",\n",
    "                    \"domain\": {\n",
    "                        \"name\": \"%s\"\n",
    "                    }\n",
    "                }\n",
    "            }\n",
    "        }\n",
    "    }\n",
    "    \"\"\" % (config[\"OS_USERNAME\"],\n",
    "           config[\"OS_PASSWORD\"],\n",
    "           config[\"OS_USER_DOMAIN_NAME\"],\n",
    "           config[\"OS_PROJECT_ID\"],\n",
    "           config[\"OS_USER_DOMAIN_NAME\"])\n",
    "    #print data\n",
    "    headers[\"Content-Type\"] = 'application/json'\n",
    "    #\n",
    "    r = requests.post(config[\"OS_AUTH_URL\"] + \"/auth/tokens\",\n",
    "                      data=data, headers=headers)\n",
    "    token = json.loads(r.text)\n",
    "    token_id = r.headers[\"X-Subject-Token\"]\n",
    "    #print json.dumps(token, indent=4)\n",
    "    #print (token_id)\n",
    "\n",
    "    return (token, token_id)\n",
    "\n"
   ]
  }
 ],
 "metadata": {
  "kernelspec": {
   "display_name": "Python 2",
   "language": "python",
   "name": "python2"
  },
  "language_info": {
   "codemirror_mode": {
    "name": "ipython",
    "version": 2
   },
   "file_extension": ".py",
   "mimetype": "text/x-python",
   "name": "python",
   "nbconvert_exporter": "python",
   "pygments_lexer": "ipython2",
   "version": "2.7.12"
  }
 },
 "nbformat": 4,
 "nbformat_minor": 1
}
