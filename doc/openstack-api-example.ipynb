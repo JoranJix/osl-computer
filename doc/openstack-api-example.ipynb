{
 "cells": [
  {
   "cell_type": "markdown",
   "metadata": {},
   "source": [
    "# OpenStack API"
   ]
  },
  {
   "cell_type": "markdown",
   "metadata": {},
   "source": [
    "El API de OpenStack permite la gestión de todos los componentes de la infraestructura.\n",
    "\n",
    "Vamos a realizar las siguientes operaciones como ejemplo de uso:\n",
    "* autenticación\n",
    "* creación de red\n",
    "* creación de router\n",
    "* creación de máquina virtual"
   ]
  },
  {
   "cell_type": "markdown",
   "metadata": {},
   "source": [
    "## Variables de entorno\n",
    "Inicializamos las variables de entorno tomando como partida el archivo de openrc.sh que nos bajamos desde la interfaz de OpenStack:"
   ]
  },
  {
   "cell_type": "code",
   "execution_count": null,
   "metadata": {
    "collapsed": false
   },
   "outputs": [],
   "source": [
    "import sys\n",
    "sys.path.append('/usr/lib/python2.7/dist-packages/')\n",
    "\n",
    "config={}\n",
    "config[\"OS_AUTH_URL\"]=\"http://openstack-vcenter:5000/v3\"\n",
    "config[\"OS_PROJECT_ID\"]=\"9b0989dfbdbd4d048f88720d4ccbf9ac\"\n",
    "config[\"OS_PROJECT_NAME\"]=\"admin\"\n",
    "config[\"OS_USER_DOMAIN_NAME\"]=\"default\"\n",
    "config[\"OS_USERNAME\"]=\"admin\"\n",
    "config[\"OS_PASSWORD\"]=\"admin\"\n",
    "config[\"OS_REGION_NAME\"]=\"RegionOne\"\n",
    "config[\"name\"]=\"prueba\""
   ]
  },
  {
   "cell_type": "markdown",
   "metadata": {},
   "source": [
    "## Autenticación\n",
    "Enviamos nuestras credenciales y obtenemos un token en las cabeceras."
   ]
  },
  {
   "cell_type": "code",
   "execution_count": null,
   "metadata": {
    "collapsed": false,
    "scrolled": true
   },
   "outputs": [],
   "source": [
    "# Peticiones http\n",
    "import requests\n",
    "# Tratamiento de json\n",
    "import json\n",
    "\n",
    "headers = {}\n",
    "headers[\"Content-Type\"] = 'application/json'\n",
    "\n",
    "data = \"\"\"\n",
    "{\n",
    "    \"auth\": {\n",
    "        \"identity\": {\n",
    "            \"methods\": [\n",
    "                \"password\"\n",
    "            ],\n",
    "            \"password\": {\n",
    "                \"user\": {\n",
    "                    \"name\": \"%s\",\n",
    "                    \"password\": \"%s\",\n",
    "                    \"domain\": {\n",
    "                        \"name\": \"%s\"\n",
    "                    }\n",
    "                }\n",
    "            }\n",
    "        },\n",
    "        \"scope\": {\n",
    "            \"project\": {\n",
    "                \"id\": \"%s\",\n",
    "                \"domain\": {\n",
    "                    \"name\": \"%s\"\n",
    "                }\n",
    "            }\n",
    "        }\n",
    "    }\n",
    "}\n",
    "\"\"\" % (config[\"OS_USERNAME\"],\n",
    "       config[\"OS_PASSWORD\"],\n",
    "       config[\"OS_USER_DOMAIN_NAME\"],\n",
    "       config[\"OS_PROJECT_ID\"],\n",
    "       config[\"OS_USER_DOMAIN_NAME\"])\n",
    "#print data\n",
    "headers[\"Content-Type\"] = 'application/json'\n",
    "#\n",
    "r = requests.post(config[\"OS_AUTH_URL\"] + \"/auth/tokens\",\n",
    "                  data=data, headers=headers)\n",
    "token = json.loads(r.text)\n",
    "token_id = r.headers[\"X-Subject-Token\"]\n",
    "print (\"token_id: \" + str(token_id))\n",
    "print (\"token: \" + str(json.dumps(token, indent=4)))\n",
    "\n",
    "\n"
   ]
  },
  {
   "cell_type": "markdown",
   "metadata": {
    "collapsed": true
   },
   "source": [
    "## Creación de red privada\n",
    "La red de cada PC virtual debe ser independiente y aislada del resto:\n",
    "* guardamos red con salida pública\n",
    "* creamos red y subred privada\n",
    "* creamos puerto en subred privada\n",
    "* creamos router en subred privada y pública\n",
    "* asignamos puerto a router\n"
   ]
  },
  {
   "cell_type": "code",
   "execution_count": null,
   "metadata": {
    "collapsed": false
   },
   "outputs": [],
   "source": [
    "# Obtenemos el endpoint para el servicio de red\n",
    "network_url = \"\"\n",
    "endpoint_type = \"network\"\n",
    "interface_type = \"public\"\n",
    "for i in range(len(token[\"token\"][\"catalog\"])):\n",
    "    if (token[\"token\"][\"catalog\"][i][\"type\"] == endpoint_type):\n",
    "        for j in range(len(token[\"token\"][\"catalog\"][i][\"endpoints\"])):\n",
    "            if (token[\"token\"][\"catalog\"][i][\"endpoints\"][j][\"interface\"] == interface_type):\n",
    "                network_url = token[\"token\"][\"catalog\"][i][\"endpoints\"][j][\"url\"]\n",
    "print (network_url)"
   ]
  },
  {
   "cell_type": "code",
   "execution_count": null,
   "metadata": {
    "collapsed": false
   },
   "outputs": [],
   "source": [
    "# Preparamos las cabeceras\n",
    "headers = {}\n",
    "headers[\"Content-Type\"] = 'application/json'\n",
    "headers[\"X-Auth-Token\"] = token_id\n",
    "print json.dumps(headers, indent=4)"
   ]
  },
  {
   "cell_type": "code",
   "execution_count": 33,
   "metadata": {
    "collapsed": false
   },
   "outputs": [
    {
     "name": "stdout",
     "output_type": "stream",
     "text": [
      "{\n",
      "    \"networks\": [\n",
      "        {\n",
      "            \"provider:physical_network\": \"external\", \n",
      "            \"ipv6_address_scope\": null, \n",
      "            \"port_security_enabled\": true, \n",
      "            \"provider:network_type\": \"flat\", \n",
      "            \"id\": \"a948b2b9-0029-480c-932f-b08c00b1aaf7\", \n",
      "            \"router:external\": true, \n",
      "            \"availability_zone_hints\": [], \n",
      "            \"availability_zones\": [\n",
      "                \"nova\"\n",
      "            ], \n",
      "            \"ipv4_address_scope\": null, \n",
      "            \"shared\": false, \n",
      "            \"status\": \"ACTIVE\", \n",
      "            \"subnets\": [\n",
      "                \"975faac2-e66f-4f0b-b7e9-deb5627b4cb8\"\n",
      "            ], \n",
      "            \"description\": \"\", \n",
      "            \"tags\": [], \n",
      "            \"updated_at\": \"2016-11-24T16:38:09\", \n",
      "            \"is_default\": false, \n",
      "            \"provider:segmentation_id\": null, \n",
      "            \"name\": \"public\", \n",
      "            \"admin_state_up\": true, \n",
      "            \"tenant_id\": \"9b0989dfbdbd4d048f88720d4ccbf9ac\", \n",
      "            \"created_at\": \"2016-11-24T16:38:09\", \n",
      "            \"mtu\": 1500\n",
      "        }, \n",
      "        {\n",
      "            \"status\": \"ACTIVE\", \n",
      "            \"router:external\": false, \n",
      "            \"availability_zone_hints\": [], \n",
      "            \"availability_zones\": [\n",
      "                \"nova\"\n",
      "            ], \n",
      "            \"ipv4_address_scope\": null, \n",
      "            \"description\": \"\", \n",
      "            \"provider:physical_network\": null, \n",
      "            \"subnets\": [\n",
      "                \"8a6abaad-48ac-4a7a-8469-79a4c356b99a\"\n",
      "            ], \n",
      "            \"updated_at\": \"2016-11-24T16:57:22\", \n",
      "            \"tenant_id\": \"9b0989dfbdbd4d048f88720d4ccbf9ac\", \n",
      "            \"created_at\": \"2016-11-24T16:57:22\", \n",
      "            \"tags\": [], \n",
      "            \"ipv6_address_scope\": null, \n",
      "            \"provider:segmentation_id\": 44, \n",
      "            \"provider:network_type\": \"gre\", \n",
      "            \"port_security_enabled\": true, \n",
      "            \"admin_state_up\": true, \n",
      "            \"shared\": false, \n",
      "            \"mtu\": 1408, \n",
      "            \"id\": \"a4cea7ac-382a-4814-acc0-d3647f61bd7a\", \n",
      "            \"name\": \"develop\"\n",
      "        }\n",
      "    ]\n",
      "}\n"
     ]
    }
   ],
   "source": [
    "# Obtenemos el listado de redes actual\n",
    "r = requests.get(network_url + \"/v2.0/networks\", headers=headers)\n",
    "networks = json.loads(r.text)\n",
    "print ((json.dumps(networks, indent=4)))"
   ]
  },
  {
   "cell_type": "code",
   "execution_count": null,
   "metadata": {
    "collapsed": true
   },
   "outputs": [],
   "source": [
    "\n",
    "# Obtenemos el network_id de la red de publica\n",
    "public_network = {}\n",
    "for network in networks[\"networks\"]:\n",
    "    if network[\"router:external\"]:\n",
    "        public_network = network\n",
    "print ((json.dumps(public_network, indent=4)))"
   ]
  }
 ],
 "metadata": {
  "kernelspec": {
   "display_name": "Python 2",
   "language": "python",
   "name": "python2"
  },
  "language_info": {
   "codemirror_mode": {
    "name": "ipython",
    "version": 2
   },
   "file_extension": ".py",
   "mimetype": "text/x-python",
   "name": "python",
   "nbconvert_exporter": "python",
   "pygments_lexer": "ipython2",
   "version": "2.7.12"
  }
 },
 "nbformat": 4,
 "nbformat_minor": 1
}
