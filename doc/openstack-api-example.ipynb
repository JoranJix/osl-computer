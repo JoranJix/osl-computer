{
 "cells": [
  {
   "cell_type": "markdown",
   "metadata": {},
   "source": [
    "# OpenStack API"
   ]
  },
  {
   "cell_type": "markdown",
   "metadata": {},
   "source": [
    "El API de OpenStack permite la gestión de todos los componentes de la infraestructura.\n",
    "\n",
    "El API de OpenStack no existe. Existe el API de cada componente de OpenStack.\n",
    "\n",
    "Vamos a realizar las siguientes operaciones como ejemplo de uso:\n",
    "* keystone:\n",
    "  * autenticación\n",
    "* neutron\n",
    "  * creación de red\n",
    "  * creación de router\n",
    "* nova\n",
    "  * creación de máquina virtual\n",
    "  * obtención de url consola\n",
    "  "
   ]
  },
  {
   "cell_type": "markdown",
   "metadata": {},
   "source": [
    "## Variables de entorno\n",
    "Tomando como partida el archivo de openrc.sh que nos bajamos desde la interfaz de OpenStack: <img src=\"get_openrc.png\">\n",
    "Inicializamos las variables:"
   ]
  },
  {
   "cell_type": "code",
   "execution_count": null,
   "metadata": {
    "collapsed": false
   },
   "outputs": [],
   "source": [
    "import sys\n",
    "sys.path.append('/usr/lib/python2.7/dist-packages/')\n",
    "\n",
    "config={}\n",
    "config[\"OS_AUTH_URL\"]=\"http://openstack-vcenter:5000/v3\"\n",
    "config[\"OS_PROJECT_ID\"]=\"9b0989dfbdbd4d048f88720d4ccbf9ac\"\n",
    "config[\"OS_PROJECT_NAME\"]=\"admin\"\n",
    "config[\"OS_USER_DOMAIN_NAME\"]=\"default\"\n",
    "config[\"OS_USERNAME\"]=\"admin\"\n",
    "config[\"OS_PASSWORD\"]=\"admin\"\n",
    "config[\"OS_REGION_NAME\"]=\"RegionOne\"\n",
    "config[\"name\"]=\"osl-computer\""
   ]
  },
  {
   "cell_type": "markdown",
   "metadata": {},
   "source": [
    "## Autenticación\n",
    "Enviamos nuestras credenciales y obtenemos un token en las cabeceras ( http://developer.openstack.org/api-ref/identity/v3/index.html?expanded=password-authentication-with-scoped-authorization-detail ):"
   ]
  },
  {
   "cell_type": "markdown",
   "metadata": {},
   "source": [
    "### Preparación de cabeceras"
   ]
  },
  {
   "cell_type": "code",
   "execution_count": null,
   "metadata": {
    "collapsed": true
   },
   "outputs": [],
   "source": [
    "# Peticiones http\n",
    "import requests\n",
    "# Tratamiento de json\n",
    "import json\n",
    "\n",
    "headers = {}\n",
    "headers[\"Content-Type\"] = 'application/json'"
   ]
  },
  {
   "cell_type": "markdown",
   "metadata": {},
   "source": [
    "### Petición de token"
   ]
  },
  {
   "cell_type": "code",
   "execution_count": null,
   "metadata": {
    "collapsed": false,
    "scrolled": true
   },
   "outputs": [],
   "source": [
    "data = \"\"\"\n",
    "{\n",
    "    \"auth\": {\n",
    "        \"identity\": {\n",
    "            \"methods\": [\n",
    "                \"password\"\n",
    "            ],\n",
    "            \"password\": {\n",
    "                \"user\": {\n",
    "                    \"name\": \"%s\",\n",
    "                    \"password\": \"%s\",\n",
    "                    \"domain\": {\n",
    "                        \"name\": \"%s\"\n",
    "                    }\n",
    "                }\n",
    "            }\n",
    "        },\n",
    "        \"scope\": {\n",
    "            \"project\": {\n",
    "                \"id\": \"%s\",\n",
    "                \"domain\": {\n",
    "                    \"name\": \"%s\"\n",
    "                }\n",
    "            }\n",
    "        }\n",
    "    }\n",
    "}\n",
    "\"\"\" % (config[\"OS_USERNAME\"],\n",
    "       config[\"OS_PASSWORD\"],\n",
    "       config[\"OS_USER_DOMAIN_NAME\"],\n",
    "       config[\"OS_PROJECT_ID\"],\n",
    "       config[\"OS_USER_DOMAIN_NAME\"])\n",
    "#print data\n",
    "headers[\"Content-Type\"] = 'application/json'\n",
    "#\n",
    "r = requests.post(config[\"OS_AUTH_URL\"] + \"/auth/tokens\",\n",
    "                  data=data, headers=headers)\n",
    "token = json.loads(r.text)\n",
    "token_id = r.headers[\"X-Subject-Token\"]\n",
    "print (\"token_id: \" + str(token_id))\n",
    "print (\"token: \" + str(json.dumps(token, indent=4)))"
   ]
  },
  {
   "cell_type": "markdown",
   "metadata": {},
   "source": [
    "### Agregamos el token a las cabeceras"
   ]
  },
  {
   "cell_type": "code",
   "execution_count": null,
   "metadata": {
    "collapsed": false
   },
   "outputs": [],
   "source": [
    "headers[\"X-Auth-Token\"] = token_id\n",
    "print json.dumps(headers, indent=4)"
   ]
  },
  {
   "cell_type": "markdown",
   "metadata": {
    "collapsed": true
   },
   "source": [
    "## Creación de red privada\n",
    "La red de cada PC virtual debe ser independiente y aislada del resto. Para ello usando el api de neutron ( http://developer.openstack.org/api-ref/networking/ ):\n",
    "* obtenemos la información de la plataforma para trabajar con ella\n",
    "* guardamos red con salida pública\n",
    "* creamos red y subred privada\n",
    "* creamos puerto en subred privada\n",
    "* creamos router en subred privada y pública\n",
    "* asignamos puerto a router\n"
   ]
  },
  {
   "cell_type": "markdown",
   "metadata": {},
   "source": [
    "### Obtenemos el endpoint para el servicio de red"
   ]
  },
  {
   "cell_type": "code",
   "execution_count": null,
   "metadata": {
    "collapsed": false
   },
   "outputs": [],
   "source": [
    "network_url = \"\"\n",
    "endpoint_type = \"network\"\n",
    "interface_type = \"public\"\n",
    "for i in range(len(token[\"token\"][\"catalog\"])):\n",
    "    if (token[\"token\"][\"catalog\"][i][\"type\"] == endpoint_type):\n",
    "        for j in range(len(token[\"token\"][\"catalog\"][i][\"endpoints\"])):\n",
    "            if (token[\"token\"][\"catalog\"][i][\"endpoints\"][j][\"interface\"] == interface_type):\n",
    "                network_url = token[\"token\"][\"catalog\"][i][\"endpoints\"][j][\"url\"]\n",
    "print (network_url)"
   ]
  },
  {
   "cell_type": "markdown",
   "metadata": {},
   "source": [
    "### Conseguimos el id de la red pública\n",
    "Necesitamos saber cual es nuestro entorno de red para crear más elementos ( http://developer.openstack.org/api-ref/networking/v2/index.html?expanded=list-networks-provider-network-detail#networks ):"
   ]
  },
  {
   "cell_type": "code",
   "execution_count": null,
   "metadata": {
    "collapsed": false
   },
   "outputs": [],
   "source": [
    "# Obtenemos el listado de redes actual\n",
    "r = requests.get(network_url + \"/v2.0/networks\", headers=headers)\n",
    "networks = json.loads(r.text)\n",
    "print ((json.dumps(networks, indent=4)))"
   ]
  },
  {
   "cell_type": "code",
   "execution_count": null,
   "metadata": {
    "collapsed": false
   },
   "outputs": [],
   "source": [
    "# Obtenemos el network_id de la red publica\n",
    "public_network = {}\n",
    "for network in networks[\"networks\"]:\n",
    "    if network[\"router:external\"]:\n",
    "        public_network = network\n",
    "print ((json.dumps(public_network, indent=4)))"
   ]
  },
  {
   "cell_type": "markdown",
   "metadata": {},
   "source": [
    "### Creamos la red de la instancia\n",
    "Utilizando el api de neutron ( http://developer.openstack.org/api-ref/networking/v2/index.html?expanded=list-networks-provider-network-detail#networks ) creamos la red:"
   ]
  },
  {
   "cell_type": "code",
   "execution_count": null,
   "metadata": {
    "collapsed": false
   },
   "outputs": [],
   "source": [
    "# Creamos la red de la instancia\n",
    "private_net_name = config[\"name\"] + \"_net\"\n",
    "data = \"\"\"\n",
    "{\n",
    "    \"network\": {\n",
    "        \"name\": \"%s\",\n",
    "        \"admin_state_up\": true\n",
    "    }\n",
    "}\n",
    "\"\"\" % private_net_name\n",
    "r = requests.post(network_url + \"/v2.0/networks\",\n",
    "                  headers=headers, data=data)\n",
    "private_net = json.loads(r.text)\n",
    "print ((json.dumps(private_net, indent=4)))"
   ]
  },
  {
   "cell_type": "markdown",
   "metadata": {},
   "source": [
    "### Creamos la subred de la instancia\n",
    "Creamos una subred independiente para la instancia (http://developer.openstack.org/api-ref/networking/v2/index.html?expanded=list-networks-provider-network-detail#subnets ):"
   ]
  },
  {
   "cell_type": "code",
   "execution_count": null,
   "metadata": {
    "collapsed": false
   },
   "outputs": [],
   "source": [
    "# Creamos la subred de la instancia\n",
    "# subnetwork_url = \"http://openstack.paradigmadigital.com:9696/v2.0/subnets\"\n",
    "private_subnet_name = config[\"name\"] + \"_subnet\"\n",
    "data = \"\"\"\n",
    "{\n",
    " \"subnet\": {\n",
    "     \"name\": \"%s\",\n",
    "     \"ip_version\": 4,\n",
    "     \"network_id\": \"%s\",\n",
    "     \"cidr\": \"172.17.235.0/24\",\n",
    "     \"gateway_ip\": \"172.17.235.1\",\n",
    "     \"allocation_pools\": [\n",
    "         {\n",
    "             \"start\": \"172.17.235.10\",\n",
    "             \"end\": \"172.17.235.100\"\n",
    "         }\n",
    "     ],\n",
    "     \"enable_dhcp\": \"true\"\n",
    " }\n",
    "}\n",
    "\"\"\" % (private_subnet_name, private_net[\"network\"][\"id\"])\n",
    "r = requests.post(network_url + \"/v2.0/subnets\", headers=headers, data=data)\n",
    "private_subnet = json.loads(r.text)\n",
    "print ((json.dumps(private_subnet, indent=4)))\n",
    "\n"
   ]
  },
  {
   "cell_type": "markdown",
   "metadata": {},
   "source": [
    "### Creamos un router para dar salida de la red privada a la pública\n",
    "Para nuestro caso de uso no es necesario porque no necesitamos tener acceso a internet pero lo vamos a hacer igualmente ( http://developer.openstack.org/api-ref/networking/v2/index.html?expanded=list-networks-provider-network-detail#routers-routers ):"
   ]
  },
  {
   "cell_type": "code",
   "execution_count": null,
   "metadata": {
    "collapsed": false
   },
   "outputs": [],
   "source": [
    "# routers_url = \"http://openstack-vcenter:9696/v2.0/routers\"\n",
    "router_name = config[\"name\"] + \"_router\"\n",
    "data = \"\"\"\n",
    "{\n",
    "    \"router\": {\n",
    "        \"name\": \"%s\",\n",
    "        \"external_gateway_info\": {\n",
    "            \"network_id\": \"%s\"\n",
    "        }\n",
    "    }\n",
    "}\n",
    "\"\"\" % (router_name, public_network[\"id\"])\n",
    "r = requests.post(network_url + \"/v2.0/routers\", headers=headers, data=data)\n",
    "external_router = json.loads(r.text)\n",
    "print ((json.dumps(external_router, indent=4)))"
   ]
  },
  {
   "cell_type": "markdown",
   "metadata": {},
   "source": [
    "### Conectando redes\n",
    "Conectando mos el router público con la red privada y ..."
   ]
  },
  {
   "cell_type": "code",
   "execution_count": null,
   "metadata": {
    "collapsed": false
   },
   "outputs": [],
   "source": [
    "data = \"\"\"\n",
    "{\n",
    "    \"subnet_id\": \"%s\"\n",
    "}\n",
    "\"\"\" % private_subnet[\"subnet\"][\"id\"]\n",
    "r = requests.put(network_url + \"/v2.0/routers/\" + external_router[\"router\"][\"id\"] + \"/add_router_interface\",\n",
    "                 headers=headers, data=data)\n",
    "external_router_connections = json.loads(r.text)\n",
    "print ((json.dumps(external_router_connections, indent=4)))"
   ]
  },
  {
   "cell_type": "markdown",
   "metadata": {},
   "source": [
    "Actualizamos las variables de entorno."
   ]
  },
  {
   "cell_type": "code",
   "execution_count": null,
   "metadata": {
    "collapsed": false
   },
   "outputs": [],
   "source": [
    "env = {}\n",
    "env[\"name\"] = config[\"name\"]\n",
    "env[\"network\"] = {}\n",
    "env[\"network\"][\"public\"] = public_network\n",
    "env[\"network\"][\"private_net\"] = private_net[\"network\"]\n",
    "env[\"network\"][\"private_subnet\"] = private_subnet[\"subnet\"]\n",
    "env[\"network\"][\"external_router\"] = external_router[\"router\"]\n",
    "print ((json.dumps(env, indent=4)))\n",
    "\n",
    "#config[\"net_id\"] = private_net[\"network\"][\"id\"]\n",
    "#config[\"router_id\"] = external_router[\"router\"][\"id\"]\n",
    "#config[\"subnet_id\"] = private_subnet[\"subnet\"][\"id\"]\n",
    "#print ((json.dumps(config, indent=4)))\n"
   ]
  },
  {
   "cell_type": "markdown",
   "metadata": {},
   "source": [
    "## Creación de la instancia y obtención de la url de la consola\n",
    "### Obtención de la url del api de compute"
   ]
  },
  {
   "cell_type": "code",
   "execution_count": null,
   "metadata": {
    "collapsed": false
   },
   "outputs": [],
   "source": [
    "\n",
    "compute_url = \"\"\n",
    "endpoint_type = \"compute\"\n",
    "interface_type = \"public\"\n",
    "for i in range(len(token[\"token\"][\"catalog\"])):\n",
    "    if (token[\"token\"][\"catalog\"][i][\"type\"] == endpoint_type):\n",
    "        for j in range(len(token[\"token\"][\"catalog\"][i][\"endpoints\"])):\n",
    "            if (token[\"token\"][\"catalog\"][i][\"endpoints\"][j][\"interface\"] == interface_type):\n",
    "                compute_url = token[\"token\"][\"catalog\"][i][\"endpoints\"][j][\"url\"]\n",
    "print ((compute_url))"
   ]
  },
  {
   "cell_type": "markdown",
   "metadata": {},
   "source": [
    "### Creación de la instancia\n",
    "Utilizamos el api para crear el servidor ( http://developer.openstack.org/api-ref/compute/#create-server ):"
   ]
  },
  {
   "cell_type": "code",
   "execution_count": null,
   "metadata": {
    "collapsed": false
   },
   "outputs": [],
   "source": [
    "# Create computer\n",
    "name = env[\"name\"] + \"_computer\"\n",
    "image = \"eed561f3-0199-4242-92f8-3772a6c6d88d\"\n",
    "flavor = \"2\"\n",
    "#print ((json.dumps(env, indent=4)))\n",
    "data = \"\"\"\n",
    "{\n",
    "    \"server\" : {\n",
    "        \"name\" : \"%s\",\n",
    "        \"imageRef\" : \"%s\",\n",
    "        \"flavorRef\" : \"%s\",\n",
    "        \"availability_zone\": \"nova\",\n",
    "        \"security_groups\": [\n",
    "            {\n",
    "                \"name\": \"default\"\n",
    "            }\n",
    "        ],\n",
    "        \"networks\": [\n",
    "            {\n",
    "                \"uuid\": \"%s\"\n",
    "            }\n",
    "        ]\n",
    "    }\n",
    "}\n",
    "\"\"\" % (name, image, flavor, env[\"network\"][\"private_net\"][\"id\"])\n",
    "r = requests.post(compute_url + \"/servers\", headers=headers, data=data)\n",
    "server_env = json.loads(r.text)\n",
    "print ((json.dumps(server_env[\"server\"], indent=4)))\n",
    "env[\"server\"] = server_env[\"server\"]\n"
   ]
  },
  {
   "cell_type": "markdown",
   "metadata": {},
   "source": [
    "### Tomamos la url de la consola\n",
    "Usamos otra llamada al api (parte http://developer.openstack.org/api-ref/compute/#get-vnc-console-os-getvncconsole-action ) para obtener la url de la consola:"
   ]
  },
  {
   "cell_type": "code",
   "execution_count": null,
   "metadata": {
    "collapsed": false
   },
   "outputs": [],
   "source": [
    "# Get console url\n",
    "data = \"\"\"\n",
    "{\n",
    "    \"os-getVNCConsole\": {\n",
    "        \"type\": \"novnc\"\n",
    "    }\n",
    "}\n",
    "\"\"\"\n",
    "#data = \"\"\"\n",
    "#{\n",
    "    #\"os-getSPICEConsole\": {\n",
    "        #\"type\": \"spice-html5\"\n",
    "    #}\n",
    "#}\n",
    "#\"\"\"\"\n",
    "r = requests.post(compute_url + \"/servers/\" + env[\"server\"][\"id\"] + \"/action\",\n",
    "                  headers=headers, data=data)\n",
    "print ((r.text))\n",
    "console_env = json.loads(r.text)\n",
    "print ((json.dumps(console_env, indent=4)))\n"
   ]
  },
  {
   "cell_type": "markdown",
   "metadata": {
    "collapsed": true
   },
   "source": [
    "## Uso de la consola\n",
    "La url se puede copiar y pegar en cualquier navegador.\n",
    "\n",
    "La utilizaremos sobre una cara de un prim para mostrar el emulador."
   ]
  }
 ],
 "metadata": {
  "kernelspec": {
   "display_name": "Python 2",
   "language": "python",
   "name": "python2"
  },
  "language_info": {
   "codemirror_mode": {
    "name": "ipython",
    "version": 2
   },
   "file_extension": ".py",
   "mimetype": "text/x-python",
   "name": "python",
   "nbconvert_exporter": "python",
   "pygments_lexer": "ipython2",
   "version": "2.7.12"
  }
 },
 "nbformat": 4,
 "nbformat_minor": 1
}
