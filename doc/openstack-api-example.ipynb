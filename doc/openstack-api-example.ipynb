{
 "cells": [
  {
   "cell_type": "markdown",
   "metadata": {},
   "source": [
    "# OpenStack API"
   ]
  },
  {
   "cell_type": "markdown",
   "metadata": {},
   "source": [
    "El API de OpenStack permite la gestión de todos los componentes de la infraestructura.\n",
    "\n",
    "El API de OpenStack no existe. Existe el API de cada componente de OpenStack.\n",
    "\n",
    "Vamos a realizar las siguientes operaciones como ejemplo de uso:\n",
    "* keystone:\n",
    "  * autenticación\n",
    "* neutron\n",
    "  * creación de red\n",
    "  * creación de router\n",
    "* nova\n",
    "  * creación de máquina virtual\n",
    "  * obtención de consola\n",
    "  "
   ]
  },
  {
   "cell_type": "markdown",
   "metadata": {},
   "source": [
    "## Variables de entorno\n",
    "Inicializamos las variables de entorno tomando como partida el archivo de openrc.sh que nos bajamos desde la interfaz de OpenStack:"
   ]
  },
  {
   "cell_type": "code",
   "execution_count": null,
   "metadata": {
    "collapsed": false
   },
   "outputs": [],
   "source": [
    "import sys\n",
    "sys.path.append('/usr/lib/python2.7/dist-packages/')\n",
    "\n",
    "config={}\n",
    "config[\"OS_AUTH_URL\"]=\"http://openstack-vcenter:5000/v3\"\n",
    "config[\"OS_PROJECT_ID\"]=\"9b0989dfbdbd4d048f88720d4ccbf9ac\"\n",
    "config[\"OS_PROJECT_NAME\"]=\"admin\"\n",
    "config[\"OS_USER_DOMAIN_NAME\"]=\"default\"\n",
    "config[\"OS_USERNAME\"]=\"admin\"\n",
    "config[\"OS_PASSWORD\"]=\"admin\"\n",
    "config[\"OS_REGION_NAME\"]=\"RegionOne\"\n",
    "config[\"name\"]=\"osl-computer\""
   ]
  },
  {
   "cell_type": "markdown",
   "metadata": {},
   "source": [
    "## Autenticación\n",
    "Enviamos nuestras credenciales y obtenemos un token en las cabeceras ( http://developer.openstack.org/api-ref/identity/v3/index.html?expanded=password-authentication-with-scoped-authorization-detail ):"
   ]
  },
  {
   "cell_type": "markdown",
   "metadata": {},
   "source": [
    "### Preparación de cabeceras"
   ]
  },
  {
   "cell_type": "code",
   "execution_count": 10,
   "metadata": {
    "collapsed": true
   },
   "outputs": [],
   "source": [
    "# Peticiones http\n",
    "import requests\n",
    "# Tratamiento de json\n",
    "import json\n",
    "\n",
    "headers = {}\n",
    "headers[\"Content-Type\"] = 'application/json'"
   ]
  },
  {
   "cell_type": "markdown",
   "metadata": {},
   "source": [
    "### Petición de token"
   ]
  },
  {
   "cell_type": "code",
   "execution_count": 11,
   "metadata": {
    "collapsed": false,
    "scrolled": true
   },
   "outputs": [
    {
     "name": "stdout",
     "output_type": "stream",
     "text": [
      "token_id: gAAAAABYeyhGVgrST1xFbaFR2KoTK6JFLJhrgAAlHn5kWrMs1Lf-Crt1I9D_OMdzzp5_gyub3CcIYh3oky09C3jodxcx2lB4joKYK8mecov8jcXNLsXS_ua3mD8jIdrB_rytKKHaUyCTYGFegz5s3g9TY5KWXgLNanYiy0wdJgmgryGq8MCHrYA\n",
      "token: {\n",
      "    \"token\": {\n",
      "        \"methods\": [\n",
      "            \"password\"\n",
      "        ], \n",
      "        \"roles\": [\n",
      "            {\n",
      "                \"id\": \"9ca495ac8ad846b5ae575f92cf86b3e6\", \n",
      "                \"name\": \"admin\"\n",
      "            }\n",
      "        ], \n",
      "        \"expires_at\": \"2017-01-15T08:44:06.454784Z\", \n",
      "        \"project\": {\n",
      "            \"domain\": {\n",
      "                \"id\": \"7b49c5bc915f46a489aae1fd776cf78c\", \n",
      "                \"name\": \"default\"\n",
      "            }, \n",
      "            \"id\": \"9b0989dfbdbd4d048f88720d4ccbf9ac\", \n",
      "            \"name\": \"admin\"\n",
      "        }, \n",
      "        \"catalog\": [\n",
      "            {\n",
      "                \"endpoints\": [\n",
      "                    {\n",
      "                        \"url\": \"http://openstack-vcenter:9292\", \n",
      "                        \"interface\": \"internal\", \n",
      "                        \"region\": \"RegionOne\", \n",
      "                        \"region_id\": \"RegionOne\", \n",
      "                        \"id\": \"00b9a0b3647b48a48394a6fbebc7c1cd\"\n",
      "                    }, \n",
      "                    {\n",
      "                        \"url\": \"http://openstack-vcenter:9292\", \n",
      "                        \"interface\": \"public\", \n",
      "                        \"region\": \"RegionOne\", \n",
      "                        \"region_id\": \"RegionOne\", \n",
      "                        \"id\": \"125472640d104748ad34f8151fe0ec99\"\n",
      "                    }, \n",
      "                    {\n",
      "                        \"url\": \"http://openstack-vcenter:9292\", \n",
      "                        \"interface\": \"admin\", \n",
      "                        \"region\": \"RegionOne\", \n",
      "                        \"region_id\": \"RegionOne\", \n",
      "                        \"id\": \"ff48db3f5edc4653998428cb35c92ae2\"\n",
      "                    }\n",
      "                ], \n",
      "                \"type\": \"image\", \n",
      "                \"id\": \"3264fad67c5e4a1882305a8fb8fbf267\", \n",
      "                \"name\": \"glance\"\n",
      "            }, \n",
      "            {\n",
      "                \"endpoints\": [\n",
      "                    {\n",
      "                        \"url\": \"http://openstack-vcenter:8774/v2.1/9b0989dfbdbd4d048f88720d4ccbf9ac\", \n",
      "                        \"interface\": \"internal\", \n",
      "                        \"region\": \"RegionOne\", \n",
      "                        \"region_id\": \"RegionOne\", \n",
      "                        \"id\": \"79c8fbbf6bf94e4385070c5a448fd19e\"\n",
      "                    }, \n",
      "                    {\n",
      "                        \"url\": \"http://openstack-vcenter:8774/v2.1/9b0989dfbdbd4d048f88720d4ccbf9ac\", \n",
      "                        \"interface\": \"public\", \n",
      "                        \"region\": \"RegionOne\", \n",
      "                        \"region_id\": \"RegionOne\", \n",
      "                        \"id\": \"a60d91f7f6c844d8851f58265e498c8d\"\n",
      "                    }, \n",
      "                    {\n",
      "                        \"url\": \"http://openstack-vcenter:8774/v2.1/9b0989dfbdbd4d048f88720d4ccbf9ac\", \n",
      "                        \"interface\": \"admin\", \n",
      "                        \"region\": \"RegionOne\", \n",
      "                        \"region_id\": \"RegionOne\", \n",
      "                        \"id\": \"a81770d3dd8a48769a4dd5fbb935533d\"\n",
      "                    }\n",
      "                ], \n",
      "                \"type\": \"compute\", \n",
      "                \"id\": \"67771061b9bc43f4a14466fe8aff4a90\", \n",
      "                \"name\": \"nova\"\n",
      "            }, \n",
      "            {\n",
      "                \"endpoints\": [\n",
      "                    {\n",
      "                        \"url\": \"http://openstack-vcenter:5000/v3\", \n",
      "                        \"interface\": \"internal\", \n",
      "                        \"region\": \"RegionOne\", \n",
      "                        \"region_id\": \"RegionOne\", \n",
      "                        \"id\": \"3da0889046df4c4281510bb5732d1088\"\n",
      "                    }, \n",
      "                    {\n",
      "                        \"url\": \"http://openstack-vcenter:5000/v3\", \n",
      "                        \"interface\": \"admin\", \n",
      "                        \"region\": \"RegionOne\", \n",
      "                        \"region_id\": \"RegionOne\", \n",
      "                        \"id\": \"62a13fe18a3a4b6f93b05779e8463cea\"\n",
      "                    }, \n",
      "                    {\n",
      "                        \"url\": \"http://openstack-vcenter:5000/v3\", \n",
      "                        \"interface\": \"public\", \n",
      "                        \"region\": \"RegionOne\", \n",
      "                        \"region_id\": \"RegionOne\", \n",
      "                        \"id\": \"86edb7efaf7f402eb743e91dfe6da08e\"\n",
      "                    }\n",
      "                ], \n",
      "                \"type\": \"identity\", \n",
      "                \"id\": \"6fd2a4389ae044d797c96bce509ba790\", \n",
      "                \"name\": \"keystone\"\n",
      "            }, \n",
      "            {\n",
      "                \"endpoints\": [\n",
      "                    {\n",
      "                        \"url\": \"http://openstack-vcenter:9696\", \n",
      "                        \"interface\": \"public\", \n",
      "                        \"region\": \"RegionOne\", \n",
      "                        \"region_id\": \"RegionOne\", \n",
      "                        \"id\": \"2dcdb21d40cd4e47b1774d30fa2bbef4\"\n",
      "                    }, \n",
      "                    {\n",
      "                        \"url\": \"http://openstack-vcenter:9696\", \n",
      "                        \"interface\": \"admin\", \n",
      "                        \"region\": \"RegionOne\", \n",
      "                        \"region_id\": \"RegionOne\", \n",
      "                        \"id\": \"5f8214871c554d1e9d99ea8755f275b3\"\n",
      "                    }, \n",
      "                    {\n",
      "                        \"url\": \"http://openstack-vcenter:9696\", \n",
      "                        \"interface\": \"internal\", \n",
      "                        \"region\": \"RegionOne\", \n",
      "                        \"region_id\": \"RegionOne\", \n",
      "                        \"id\": \"9df7b2494254450786b9b224c49d40a4\"\n",
      "                    }\n",
      "                ], \n",
      "                \"type\": \"network\", \n",
      "                \"id\": \"7e49e3d2cad0434eaa1a9041e78c12b4\", \n",
      "                \"name\": \"neutron\"\n",
      "            }\n",
      "        ], \n",
      "        \"user\": {\n",
      "            \"domain\": {\n",
      "                \"id\": \"7b49c5bc915f46a489aae1fd776cf78c\", \n",
      "                \"name\": \"default\"\n",
      "            }, \n",
      "            \"id\": \"175cc8d2dc3045e3a5c4406da8264fb3\", \n",
      "            \"name\": \"admin\"\n",
      "        }, \n",
      "        \"audit_ids\": [\n",
      "            \"aBBJs1u3RPi01WLWIjBgHQ\"\n",
      "        ], \n",
      "        \"issued_at\": \"2017-01-15T07:44:06.000000Z\"\n",
      "    }\n",
      "}\n"
     ]
    }
   ],
   "source": [
    "data = \"\"\"\n",
    "{\n",
    "    \"auth\": {\n",
    "        \"identity\": {\n",
    "            \"methods\": [\n",
    "                \"password\"\n",
    "            ],\n",
    "            \"password\": {\n",
    "                \"user\": {\n",
    "                    \"name\": \"%s\",\n",
    "                    \"password\": \"%s\",\n",
    "                    \"domain\": {\n",
    "                        \"name\": \"%s\"\n",
    "                    }\n",
    "                }\n",
    "            }\n",
    "        },\n",
    "        \"scope\": {\n",
    "            \"project\": {\n",
    "                \"id\": \"%s\",\n",
    "                \"domain\": {\n",
    "                    \"name\": \"%s\"\n",
    "                }\n",
    "            }\n",
    "        }\n",
    "    }\n",
    "}\n",
    "\"\"\" % (config[\"OS_USERNAME\"],\n",
    "       config[\"OS_PASSWORD\"],\n",
    "       config[\"OS_USER_DOMAIN_NAME\"],\n",
    "       config[\"OS_PROJECT_ID\"],\n",
    "       config[\"OS_USER_DOMAIN_NAME\"])\n",
    "#print data\n",
    "headers[\"Content-Type\"] = 'application/json'\n",
    "#\n",
    "r = requests.post(config[\"OS_AUTH_URL\"] + \"/auth/tokens\",\n",
    "                  data=data, headers=headers)\n",
    "token = json.loads(r.text)\n",
    "token_id = r.headers[\"X-Subject-Token\"]\n",
    "print (\"token_id: \" + str(token_id))\n",
    "print (\"token: \" + str(json.dumps(token, indent=4)))\n",
    "\n",
    "\n"
   ]
  },
  {
   "cell_type": "markdown",
   "metadata": {},
   "source": [
    "### Agregamos el token a las cabeceras"
   ]
  },
  {
   "cell_type": "code",
   "execution_count": 12,
   "metadata": {
    "collapsed": false
   },
   "outputs": [
    {
     "name": "stdout",
     "output_type": "stream",
     "text": [
      "{\n",
      "    \"Content-Type\": \"application/json\", \n",
      "    \"X-Auth-Token\": \"gAAAAABYeyhGVgrST1xFbaFR2KoTK6JFLJhrgAAlHn5kWrMs1Lf-Crt1I9D_OMdzzp5_gyub3CcIYh3oky09C3jodxcx2lB4joKYK8mecov8jcXNLsXS_ua3mD8jIdrB_rytKKHaUyCTYGFegz5s3g9TY5KWXgLNanYiy0wdJgmgryGq8MCHrYA\"\n",
      "}\n"
     ]
    }
   ],
   "source": [
    "headers[\"X-Auth-Token\"] = token_id\n",
    "print json.dumps(headers, indent=4)"
   ]
  },
  {
   "cell_type": "markdown",
   "metadata": {
    "collapsed": true
   },
   "source": [
    "## Creación de red privada\n",
    "La red de cada PC virtual debe ser independiente y aislada del resto:\n",
    "* obtenemos la información de la plataforma para trabajar con ella\n",
    "* guardamos red con salida pública\n",
    "* creamos red y subred privada\n",
    "* creamos puerto en subred privada\n",
    "* creamos router en subred privada y pública\n",
    "* asignamos puerto a router\n"
   ]
  },
  {
   "cell_type": "markdown",
   "metadata": {},
   "source": [
    "### Obtenemos el endpoint para el servicio de red"
   ]
  },
  {
   "cell_type": "code",
   "execution_count": null,
   "metadata": {
    "collapsed": false
   },
   "outputs": [],
   "source": [
    "network_url = \"\"\n",
    "endpoint_type = \"network\"\n",
    "interface_type = \"public\"\n",
    "for i in range(len(token[\"token\"][\"catalog\"])):\n",
    "    if (token[\"token\"][\"catalog\"][i][\"type\"] == endpoint_type):\n",
    "        for j in range(len(token[\"token\"][\"catalog\"][i][\"endpoints\"])):\n",
    "            if (token[\"token\"][\"catalog\"][i][\"endpoints\"][j][\"interface\"] == interface_type):\n",
    "                network_url = token[\"token\"][\"catalog\"][i][\"endpoints\"][j][\"url\"]\n",
    "print (network_url)"
   ]
  },
  {
   "cell_type": "markdown",
   "metadata": {},
   "source": [
    "### Obtenemos el listado de redes actual\n",
    "Necesitamos saber cual es nuestro entorno de red para crear más elementos ( http://developer.openstack.org/api-ref/networking/v2/index.html?expanded=list-networks-provider-network-detail#api-guide ):"
   ]
  },
  {
   "cell_type": "code",
   "execution_count": null,
   "metadata": {
    "collapsed": false
   },
   "outputs": [],
   "source": [
    "r = requests.get(network_url + \"/v2.0/networks\", headers=headers)\n",
    "networks = json.loads(r.text)\n",
    "print ((json.dumps(networks, indent=4)))"
   ]
  },
  {
   "cell_type": "code",
   "execution_count": null,
   "metadata": {
    "collapsed": false
   },
   "outputs": [],
   "source": [
    "# Obtenemos el network_id de la red publica\n",
    "public_network = {}\n",
    "for network in networks[\"networks\"]:\n",
    "    if network[\"router:external\"]:\n",
    "        public_network = network\n",
    "print ((json.dumps(public_network, indent=4)))"
   ]
  },
  {
   "cell_type": "code",
   "execution_count": null,
   "metadata": {
    "collapsed": false
   },
   "outputs": [],
   "source": [
    "# Creamos la red de la instancia\n",
    "private_net_name = config[\"name\"] + \"_net\"\n",
    "data = \"\"\"\n",
    "{\n",
    "    \"network\": {\n",
    "        \"name\": \"%s\",\n",
    "        \"admin_state_up\": true\n",
    "    }\n",
    "}\n",
    "\"\"\" % private_net_name\n",
    "r = requests.post(network_url + \"/v2.0/networks\",\n",
    "                  headers=headers, data=data)\n",
    "private_net = json.loads(r.text)\n",
    "print ((json.dumps(private_net, indent=4)))"
   ]
  },
  {
   "cell_type": "code",
   "execution_count": null,
   "metadata": {
    "collapsed": false
   },
   "outputs": [],
   "source": [
    "# Creamos la subred de la instancia\n",
    "# subnetwork_url = \"http://openstack.paradigmadigital.com:9696/v2.0/subnets\"\n",
    "private_subnet_name = config[\"name\"] + \"_subnet\"\n",
    "data = \"\"\"\n",
    "{\n",
    " \"subnet\": {\n",
    "     \"name\": \"%s\",\n",
    "     \"ip_version\": 4,\n",
    "     \"network_id\": \"%s\",\n",
    "     \"cidr\": \"172.17.235.0/24\",\n",
    "     \"gateway_ip\": \"172.17.235.1\",\n",
    "     \"allocation_pools\": [\n",
    "         {\n",
    "             \"start\": \"172.17.235.10\",\n",
    "             \"end\": \"172.17.235.100\"\n",
    "         }\n",
    "     ],\n",
    "     \"enable_dhcp\": \"true\"\n",
    " }\n",
    "}\n",
    "\"\"\" % (private_subnet_name, private_net[\"network\"][\"id\"])\n",
    "r = requests.post(network_url + \"/v2.0/subnets\", headers=headers, data=data)\n",
    "private_subnet = json.loads(r.text)\n",
    "print ((json.dumps(private_subnet, indent=4)))\n",
    "\n"
   ]
  },
  {
   "cell_type": "code",
   "execution_count": null,
   "metadata": {
    "collapsed": false
   },
   "outputs": [],
   "source": [
    "# Creamos un router para dar salida a la red publica hacia el exterior\n",
    "# routers_url = \"http://openstack-vcenter:9696/v2.0/routers\"\n",
    "router_name = config[\"name\"] + \"_router\"\n",
    "data = \"\"\"\n",
    "{\n",
    "    \"router\": {\n",
    "        \"name\": \"%s\",\n",
    "        \"external_gateway_info\": {\n",
    "            \"network_id\": \"%s\"\n",
    "        }\n",
    "    }\n",
    "}\n",
    "\"\"\" % (router_name, public_network[\"id\"])\n",
    "r = requests.post(network_url + \"/v2.0/routers\", headers=headers, data=data)\n",
    "external_router = json.loads(r.text)\n",
    "print ((json.dumps(external_router, indent=4)))"
   ]
  },
  {
   "cell_type": "code",
   "execution_count": null,
   "metadata": {
    "collapsed": false
   },
   "outputs": [],
   "source": [
    "# Conectamos el router público con la red privada\n",
    "# add_router_interface_url = routers_url + \"/\" + external_router_id +\n",
    "# \"/add_router_interface\"\n",
    "data = \"\"\"\n",
    "{\n",
    "    \"subnet_id\": \"%s\"\n",
    "}\n",
    "\"\"\" % private_subnet[\"subnet\"][\"id\"]\n",
    "r = requests.put(network_url + \"/v2.0/routers/\" + external_router[\"router\"][\"id\"] + \"/add_router_interface\",\n",
    "                 headers=headers, data=data)\n",
    "external_router_connections = json.loads(r.text)\n",
    "print ((json.dumps(external_router_connections, indent=4)))"
   ]
  },
  {
   "cell_type": "code",
   "execution_count": null,
   "metadata": {
    "collapsed": false
   },
   "outputs": [],
   "source": [
    "env = {}\n",
    "env[\"name\"] = config[\"name\"]\n",
    "env[\"network\"] = {}\n",
    "env[\"network\"][\"public\"] = public_network\n",
    "env[\"network\"][\"private_net\"] = private_net[\"network\"]\n",
    "env[\"network\"][\"private_subnet\"] = private_subnet[\"subnet\"]\n",
    "env[\"network\"][\"external_router\"] = external_router[\"router\"]\n",
    "print ((json.dumps(env, indent=4)))\n",
    "\n",
    "#config[\"net_id\"] = private_net[\"network\"][\"id\"]\n",
    "#config[\"router_id\"] = external_router[\"router\"][\"id\"]\n",
    "#config[\"subnet_id\"] = private_subnet[\"subnet\"][\"id\"]\n",
    "#print ((json.dumps(config, indent=4)))\n"
   ]
  },
  {
   "cell_type": "code",
   "execution_count": null,
   "metadata": {
    "collapsed": false
   },
   "outputs": [],
   "source": [
    "# Obtenemos el endpoint para el servicio de compute\n",
    "compute_url = \"\"\n",
    "endpoint_type = \"compute\"\n",
    "interface_type = \"public\"\n",
    "for i in range(len(token[\"token\"][\"catalog\"])):\n",
    "    if (token[\"token\"][\"catalog\"][i][\"type\"] == endpoint_type):\n",
    "        for j in range(len(token[\"token\"][\"catalog\"][i][\"endpoints\"])):\n",
    "            if (token[\"token\"][\"catalog\"][i][\"endpoints\"][j][\"interface\"] == interface_type):\n",
    "                compute_url = token[\"token\"][\"catalog\"][i][\"endpoints\"][j][\"url\"]\n",
    "print ((compute_url))"
   ]
  },
  {
   "cell_type": "code",
   "execution_count": null,
   "metadata": {
    "collapsed": false
   },
   "outputs": [],
   "source": [
    "# Create computer\n",
    "name = env[\"name\"] + \"_computer\"\n",
    "image = \"eed561f3-0199-4242-92f8-3772a6c6d88d\"\n",
    "flavor = \"2\"\n",
    "#print ((json.dumps(env, indent=4)))\n",
    "data = \"\"\"\n",
    "{\n",
    "    \"server\" : {\n",
    "        \"name\" : \"%s\",\n",
    "        \"imageRef\" : \"%s\",\n",
    "        \"flavorRef\" : \"%s\",\n",
    "        \"availability_zone\": \"nova\",\n",
    "        \"security_groups\": [\n",
    "            {\n",
    "                \"name\": \"default\"\n",
    "            }\n",
    "        ],\n",
    "        \"networks\": [\n",
    "            {\n",
    "                \"uuid\": \"%s\"\n",
    "            }\n",
    "        ]\n",
    "    }\n",
    "}\n",
    "\"\"\" % (name, image, flavor, env[\"network\"][\"private_net\"][\"id\"])\n",
    "r = requests.post(compute_url + \"/servers\", headers=headers, data=data)\n",
    "server_env = json.loads(r.text)\n",
    "print ((json.dumps(server_env[\"server\"], indent=4)))\n",
    "env[\"server\"] = server_env[\"server\"]\n"
   ]
  },
  {
   "cell_type": "code",
   "execution_count": null,
   "metadata": {
    "collapsed": false
   },
   "outputs": [],
   "source": [
    "# Get console url\n",
    "data = \"\"\"\n",
    "{\n",
    "    \"os-getVNCConsole\": {\n",
    "        \"type\": \"novnc\"\n",
    "    }\n",
    "}\n",
    "\"\"\"\n",
    "#data = \"\"\"\n",
    "#{\n",
    "    #\"os-getSPICEConsole\": {\n",
    "        #\"type\": \"spice-html5\"\n",
    "    #}\n",
    "#}\n",
    "#\"\"\"\"\n",
    "r = requests.post(compute_url + \"/servers/\" + env[\"server\"][\"id\"] + \"/action\",\n",
    "                  headers=headers, data=data)\n",
    "print ((r.text))\n",
    "console_env = json.loads(r.text)\n",
    "print ((json.dumps(console_env, indent=4)))\n"
   ]
  },
  {
   "cell_type": "code",
   "execution_count": null,
   "metadata": {
    "collapsed": true
   },
   "outputs": [],
   "source": []
  }
 ],
 "metadata": {
  "kernelspec": {
   "display_name": "Python 2",
   "language": "python",
   "name": "python2"
  },
  "language_info": {
   "codemirror_mode": {
    "name": "ipython",
    "version": 2
   },
   "file_extension": ".py",
   "mimetype": "text/x-python",
   "name": "python",
   "nbconvert_exporter": "python",
   "pygments_lexer": "ipython2",
   "version": "2.7.12"
  }
 },
 "nbformat": 4,
 "nbformat_minor": 1
}
